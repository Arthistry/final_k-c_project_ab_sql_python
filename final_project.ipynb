{
 "cells": [
  {
   "cell_type": "markdown",
   "metadata": {},
   "source": [
    "## Библиотеки"
   ]
  },
  {
   "cell_type": "code",
   "execution_count": 88,
   "metadata": {},
   "outputs": [],
   "source": [
    "import pandas as pd\n",
    "import numpy as np\n",
    "\n",
    "import matplotlib.pyplot as plt\n",
    "import seaborn as sns\n",
    "\n",
    "import statsmodels.api as sm\n",
    "from statsmodels.stats.proportion import proportions_ztest\n",
    "from scipy.stats import bootstrap\n",
    "\n",
    "import pandahouse as ph\n",
    "\n",
    "%matplotlib inline"
   ]
  },
  {
   "cell_type": "markdown",
   "metadata": {},
   "source": [
    "## Данные"
   ]
  },
  {
   "cell_type": "code",
   "execution_count": 89,
   "metadata": {},
   "outputs": [],
   "source": [
    "# Информация о группе пользователя (тестовая/контрольная)\n",
    "groups = pd.read_csv('C:/Users/Arthur/Desktop/data/groups.csv', sep=';')"
   ]
  },
  {
   "cell_type": "code",
   "execution_count": 90,
   "metadata": {},
   "outputs": [],
   "source": [
    "# Информация об активных в день эксперимента пользователях\n",
    "active_studs = pd.read_csv('C:/Users/Arthur/Desktop/data/active_studs.csv')"
   ]
  },
  {
   "cell_type": "code",
   "execution_count": 91,
   "metadata": {},
   "outputs": [],
   "source": [
    "# Информация об оплатах пользователей в день эксперимента\n",
    "checks = pd.read_csv('C:/Users/Arthur/Desktop/data/checks.csv', sep=';')"
   ]
  },
  {
   "cell_type": "markdown",
   "metadata": {},
   "source": [
    "## 1. Интерпретация результатов A/B тестирования"
   ]
  },
  {
   "cell_type": "markdown",
   "metadata": {},
   "source": [
    "### Исследование данных"
   ]
  },
  {
   "cell_type": "markdown",
   "metadata": {},
   "source": [
    "Для начала рассмотрим данные, проверим на наличие дубликатов  \n",
    "и пропусков, найдём число строк и уникальных значений."
   ]
  },
  {
   "cell_type": "markdown",
   "metadata": {},
   "source": [
    "Начнём с таблицы **groups**:"
   ]
  },
  {
   "cell_type": "code",
   "execution_count": 92,
   "metadata": {},
   "outputs": [
    {
     "data": {
      "text/html": [
       "<div>\n",
       "<style scoped>\n",
       "    .dataframe tbody tr th:only-of-type {\n",
       "        vertical-align: middle;\n",
       "    }\n",
       "\n",
       "    .dataframe tbody tr th {\n",
       "        vertical-align: top;\n",
       "    }\n",
       "\n",
       "    .dataframe thead th {\n",
       "        text-align: right;\n",
       "    }\n",
       "</style>\n",
       "<table border=\"1\" class=\"dataframe\">\n",
       "  <thead>\n",
       "    <tr style=\"text-align: right;\">\n",
       "      <th></th>\n",
       "      <th>id</th>\n",
       "      <th>grp</th>\n",
       "    </tr>\n",
       "  </thead>\n",
       "  <tbody>\n",
       "    <tr>\n",
       "      <th>0</th>\n",
       "      <td>1489</td>\n",
       "      <td>B</td>\n",
       "    </tr>\n",
       "    <tr>\n",
       "      <th>1</th>\n",
       "      <td>1627</td>\n",
       "      <td>A</td>\n",
       "    </tr>\n",
       "    <tr>\n",
       "      <th>2</th>\n",
       "      <td>1768</td>\n",
       "      <td>B</td>\n",
       "    </tr>\n",
       "    <tr>\n",
       "      <th>3</th>\n",
       "      <td>1783</td>\n",
       "      <td>B</td>\n",
       "    </tr>\n",
       "    <tr>\n",
       "      <th>4</th>\n",
       "      <td>1794</td>\n",
       "      <td>A</td>\n",
       "    </tr>\n",
       "  </tbody>\n",
       "</table>\n",
       "</div>"
      ],
      "text/plain": [
       "     id grp\n",
       "0  1489   B\n",
       "1  1627   A\n",
       "2  1768   B\n",
       "3  1783   B\n",
       "4  1794   A"
      ]
     },
     "execution_count": 92,
     "metadata": {},
     "output_type": "execute_result"
    }
   ],
   "source": [
    "groups.head()"
   ]
  },
  {
   "cell_type": "code",
   "execution_count": 93,
   "metadata": {},
   "outputs": [
    {
     "name": "stdout",
     "output_type": "stream",
     "text": [
      "Таблица:                groups\n",
      "Строк:                  74484\n",
      "Столбцов:               2\n",
      "Дубликатов:             0\n",
      " \n",
      "Столбец:                id\n",
      "Уникальных значений:    74484\n",
      "Пропусков:              0\n",
      " \n",
      "Столбец:                grp\n",
      "Уникальных значений:    2\n",
      "Пропусков:              0\n"
     ]
    }
   ],
   "source": [
    "print(f'Таблица:                groups')\n",
    "print(f'Строк:                  {groups.shape[0]}')\n",
    "print(f'Столбцов:               {groups.shape[1]}')\n",
    "print(f'Дубликатов:             {groups.duplicated().sum()}')\n",
    "print(f' ')\n",
    "print(f'Столбец:                {groups.columns[0]}')\n",
    "print(f'Уникальных значений:    {groups.id.nunique()}')\n",
    "print(f'Пропусков:              {groups.id.isna().sum()}')\n",
    "print(f' ')\n",
    "print(f'Столбец:                {groups.columns[1]}')\n",
    "print(f'Уникальных значений:    {groups.grp.nunique()}')\n",
    "print(f'Пропусков:              {groups.grp.isna().sum()}')"
   ]
  },
  {
   "cell_type": "markdown",
   "metadata": {},
   "source": [
    "Пропуски и дубликаты отсутствуют. Значения **id** уникальны.  \n",
    "Групп — две: тестовая и контрольная. Данные валидны."
   ]
  },
  {
   "cell_type": "markdown",
   "metadata": {},
   "source": [
    "Рассмотрим таблицу **active_studs**:"
   ]
  },
  {
   "cell_type": "code",
   "execution_count": 94,
   "metadata": {},
   "outputs": [
    {
     "data": {
      "text/html": [
       "<div>\n",
       "<style scoped>\n",
       "    .dataframe tbody tr th:only-of-type {\n",
       "        vertical-align: middle;\n",
       "    }\n",
       "\n",
       "    .dataframe tbody tr th {\n",
       "        vertical-align: top;\n",
       "    }\n",
       "\n",
       "    .dataframe thead th {\n",
       "        text-align: right;\n",
       "    }\n",
       "</style>\n",
       "<table border=\"1\" class=\"dataframe\">\n",
       "  <thead>\n",
       "    <tr style=\"text-align: right;\">\n",
       "      <th></th>\n",
       "      <th>student_id</th>\n",
       "    </tr>\n",
       "  </thead>\n",
       "  <tbody>\n",
       "    <tr>\n",
       "      <th>0</th>\n",
       "      <td>581585</td>\n",
       "    </tr>\n",
       "    <tr>\n",
       "      <th>1</th>\n",
       "      <td>5723133</td>\n",
       "    </tr>\n",
       "    <tr>\n",
       "      <th>2</th>\n",
       "      <td>3276743</td>\n",
       "    </tr>\n",
       "    <tr>\n",
       "      <th>3</th>\n",
       "      <td>4238589</td>\n",
       "    </tr>\n",
       "    <tr>\n",
       "      <th>4</th>\n",
       "      <td>4475369</td>\n",
       "    </tr>\n",
       "  </tbody>\n",
       "</table>\n",
       "</div>"
      ],
      "text/plain": [
       "   student_id\n",
       "0      581585\n",
       "1     5723133\n",
       "2     3276743\n",
       "3     4238589\n",
       "4     4475369"
      ]
     },
     "execution_count": 94,
     "metadata": {},
     "output_type": "execute_result"
    }
   ],
   "source": [
    "active_studs.head()"
   ]
  },
  {
   "cell_type": "code",
   "execution_count": 95,
   "metadata": {},
   "outputs": [
    {
     "name": "stdout",
     "output_type": "stream",
     "text": [
      "Таблица:                active_studs\n",
      "Строк:                  8341\n",
      "Столбцов:               1\n",
      "Дубликатов:             0\n",
      " \n",
      "Столбец:                student_id\n",
      "Уникальных значений:    8341\n",
      "Пропусков:              0\n"
     ]
    }
   ],
   "source": [
    "print(f'Таблица:                active_studs')\n",
    "print(f'Строк:                  {active_studs.shape[0]}')\n",
    "print(f'Столбцов:               {active_studs.shape[1]}')\n",
    "print(f'Дубликатов:             {active_studs.duplicated().sum()}')\n",
    "print(f' ')\n",
    "print(f'Столбец:                {active_studs.columns[0]}')\n",
    "print(f'Уникальных значений:    {active_studs.student_id.nunique()}')\n",
    "print(f'Пропусков:              {active_studs.student_id.isna().sum()}')"
   ]
  },
  {
   "cell_type": "markdown",
   "metadata": {},
   "source": [
    "Пропуски и дубликаты отсутствуют. Значения **id** уникальны. Данные валидны."
   ]
  },
  {
   "cell_type": "markdown",
   "metadata": {},
   "source": [
    "Рассмотрим таблицу **checks**:"
   ]
  },
  {
   "cell_type": "code",
   "execution_count": 96,
   "metadata": {},
   "outputs": [
    {
     "data": {
      "text/html": [
       "<div>\n",
       "<style scoped>\n",
       "    .dataframe tbody tr th:only-of-type {\n",
       "        vertical-align: middle;\n",
       "    }\n",
       "\n",
       "    .dataframe tbody tr th {\n",
       "        vertical-align: top;\n",
       "    }\n",
       "\n",
       "    .dataframe thead th {\n",
       "        text-align: right;\n",
       "    }\n",
       "</style>\n",
       "<table border=\"1\" class=\"dataframe\">\n",
       "  <thead>\n",
       "    <tr style=\"text-align: right;\">\n",
       "      <th></th>\n",
       "      <th>student_id</th>\n",
       "      <th>rev</th>\n",
       "    </tr>\n",
       "  </thead>\n",
       "  <tbody>\n",
       "    <tr>\n",
       "      <th>0</th>\n",
       "      <td>1627</td>\n",
       "      <td>990.0</td>\n",
       "    </tr>\n",
       "    <tr>\n",
       "      <th>1</th>\n",
       "      <td>3185</td>\n",
       "      <td>690.0</td>\n",
       "    </tr>\n",
       "    <tr>\n",
       "      <th>2</th>\n",
       "      <td>25973</td>\n",
       "      <td>690.0</td>\n",
       "    </tr>\n",
       "    <tr>\n",
       "      <th>3</th>\n",
       "      <td>26280</td>\n",
       "      <td>690.0</td>\n",
       "    </tr>\n",
       "    <tr>\n",
       "      <th>4</th>\n",
       "      <td>100300</td>\n",
       "      <td>990.0</td>\n",
       "    </tr>\n",
       "  </tbody>\n",
       "</table>\n",
       "</div>"
      ],
      "text/plain": [
       "   student_id    rev\n",
       "0        1627  990.0\n",
       "1        3185  690.0\n",
       "2       25973  690.0\n",
       "3       26280  690.0\n",
       "4      100300  990.0"
      ]
     },
     "execution_count": 96,
     "metadata": {},
     "output_type": "execute_result"
    }
   ],
   "source": [
    "checks.head()"
   ]
  },
  {
   "cell_type": "code",
   "execution_count": 97,
   "metadata": {},
   "outputs": [
    {
     "name": "stdout",
     "output_type": "stream",
     "text": [
      "Таблица:                checks\n",
      "Строк:                  541\n",
      "Столбцов:               2\n",
      "Дубликатов:             0\n",
      " \n",
      "Столбец:                student_id\n",
      "Уникальных значений:    541\n",
      "Пропусков:              0\n",
      " \n",
      "Столбец:                rev\n",
      "Уникальных значений:    39\n",
      "Пропусков:              0\n"
     ]
    }
   ],
   "source": [
    "print(f'Таблица:                checks')\n",
    "print(f'Строк:                  {checks.shape[0]}')\n",
    "print(f'Столбцов:               {checks.shape[1]}')\n",
    "print(f'Дубликатов:             {checks.duplicated().sum()}')\n",
    "print(f' ')\n",
    "print(f'Столбец:                {checks.columns[0]}')\n",
    "print(f'Уникальных значений:    {checks.student_id.nunique()}')\n",
    "print(f'Пропусков:              {checks.student_id.isna().sum()}')\n",
    "print(f' ')\n",
    "print(f'Столбец:                {checks.columns[1]}')\n",
    "print(f'Уникальных значений:    {checks.rev.nunique()}')\n",
    "print(f'Пропусков:              {checks.rev.isna().sum()}')"
   ]
  },
  {
   "cell_type": "markdown",
   "metadata": {},
   "source": [
    "Пропуски и дубликаты отсутствуют. Значения **id** уникальны.  \n",
    "Уникальных сумм покупки — 39. Данные валидны."
   ]
  },
  {
   "cell_type": "markdown",
   "metadata": {},
   "source": [
    "### Объединение данных"
   ]
  },
  {
   "cell_type": "markdown",
   "metadata": {},
   "source": [
    "Создаём общий датафрейм используя LEFT JOIN'ы к таблице **groups**.  \n",
    "Таким образом, в датафрейм не войдут данные об активных пользователях  \n",
    "без группы и о платящих пользователях без группы, если такие есть.  \n",
    "В любом случае мы не можем использовать эту информацию в контексте A/B теста."
   ]
  },
  {
   "cell_type": "markdown",
   "metadata": {},
   "source": [
    "Перед тем как производить JOIN'ы, переименуем колонку **id** в **student_id**  \n",
    "в таблице **groups** для консистентности таблиц, а также создадим фиктивную  \n",
    "переменную **active** для **active_studs** и **payer** для **checks**, чтобы упростить  \n",
    "дальнейшие расчёты."
   ]
  },
  {
   "cell_type": "code",
   "execution_count": 98,
   "metadata": {},
   "outputs": [],
   "source": [
    "groups = groups.rename(columns={'id' : 'student_id'})"
   ]
  },
  {
   "cell_type": "code",
   "execution_count": 99,
   "metadata": {},
   "outputs": [],
   "source": [
    "active_studs['active'] = 1"
   ]
  },
  {
   "cell_type": "code",
   "execution_count": 100,
   "metadata": {},
   "outputs": [],
   "source": [
    "checks['payer'] = 1"
   ]
  },
  {
   "cell_type": "code",
   "execution_count": 101,
   "metadata": {},
   "outputs": [],
   "source": [
    "df = groups.merge(active_studs, how='left', on='student_id') \\\n",
    "           .merge(checks,       how='left', on='student_id')"
   ]
  },
  {
   "cell_type": "code",
   "execution_count": 102,
   "metadata": {},
   "outputs": [
    {
     "data": {
      "text/html": [
       "<div>\n",
       "<style scoped>\n",
       "    .dataframe tbody tr th:only-of-type {\n",
       "        vertical-align: middle;\n",
       "    }\n",
       "\n",
       "    .dataframe tbody tr th {\n",
       "        vertical-align: top;\n",
       "    }\n",
       "\n",
       "    .dataframe thead th {\n",
       "        text-align: right;\n",
       "    }\n",
       "</style>\n",
       "<table border=\"1\" class=\"dataframe\">\n",
       "  <thead>\n",
       "    <tr style=\"text-align: right;\">\n",
       "      <th></th>\n",
       "      <th>student_id</th>\n",
       "      <th>grp</th>\n",
       "      <th>active</th>\n",
       "      <th>rev</th>\n",
       "      <th>payer</th>\n",
       "    </tr>\n",
       "  </thead>\n",
       "  <tbody>\n",
       "    <tr>\n",
       "      <th>0</th>\n",
       "      <td>1489</td>\n",
       "      <td>B</td>\n",
       "      <td>NaN</td>\n",
       "      <td>NaN</td>\n",
       "      <td>NaN</td>\n",
       "    </tr>\n",
       "    <tr>\n",
       "      <th>1</th>\n",
       "      <td>1627</td>\n",
       "      <td>A</td>\n",
       "      <td>1.0</td>\n",
       "      <td>990.0</td>\n",
       "      <td>1.0</td>\n",
       "    </tr>\n",
       "    <tr>\n",
       "      <th>2</th>\n",
       "      <td>1768</td>\n",
       "      <td>B</td>\n",
       "      <td>NaN</td>\n",
       "      <td>NaN</td>\n",
       "      <td>NaN</td>\n",
       "    </tr>\n",
       "    <tr>\n",
       "      <th>3</th>\n",
       "      <td>1783</td>\n",
       "      <td>B</td>\n",
       "      <td>NaN</td>\n",
       "      <td>NaN</td>\n",
       "      <td>NaN</td>\n",
       "    </tr>\n",
       "    <tr>\n",
       "      <th>4</th>\n",
       "      <td>1794</td>\n",
       "      <td>A</td>\n",
       "      <td>NaN</td>\n",
       "      <td>NaN</td>\n",
       "      <td>NaN</td>\n",
       "    </tr>\n",
       "  </tbody>\n",
       "</table>\n",
       "</div>"
      ],
      "text/plain": [
       "   student_id grp  active    rev  payer\n",
       "0        1489   B     NaN    NaN    NaN\n",
       "1        1627   A     1.0  990.0    1.0\n",
       "2        1768   B     NaN    NaN    NaN\n",
       "3        1783   B     NaN    NaN    NaN\n",
       "4        1794   A     NaN    NaN    NaN"
      ]
     },
     "execution_count": 102,
     "metadata": {},
     "output_type": "execute_result"
    }
   ],
   "source": [
    "df.head()"
   ]
  },
  {
   "cell_type": "markdown",
   "metadata": {},
   "source": [
    "Заменим NaN значения фиктивных переменных на 0 и приведём  \n",
    "их к целочисленному типу данных."
   ]
  },
  {
   "cell_type": "code",
   "execution_count": 103,
   "metadata": {},
   "outputs": [],
   "source": [
    "df['active'] = df.active.fillna(0)\n",
    "df['active'] = df.active.astype('int64')"
   ]
  },
  {
   "cell_type": "code",
   "execution_count": 104,
   "metadata": {},
   "outputs": [],
   "source": [
    "df['payer'] = df.payer.fillna(0)\n",
    "df['payer'] = df.payer.astype('int64')"
   ]
  },
  {
   "cell_type": "code",
   "execution_count": 105,
   "metadata": {},
   "outputs": [
    {
     "data": {
      "text/html": [
       "<div>\n",
       "<style scoped>\n",
       "    .dataframe tbody tr th:only-of-type {\n",
       "        vertical-align: middle;\n",
       "    }\n",
       "\n",
       "    .dataframe tbody tr th {\n",
       "        vertical-align: top;\n",
       "    }\n",
       "\n",
       "    .dataframe thead th {\n",
       "        text-align: right;\n",
       "    }\n",
       "</style>\n",
       "<table border=\"1\" class=\"dataframe\">\n",
       "  <thead>\n",
       "    <tr style=\"text-align: right;\">\n",
       "      <th></th>\n",
       "      <th>student_id</th>\n",
       "      <th>grp</th>\n",
       "      <th>active</th>\n",
       "      <th>rev</th>\n",
       "      <th>payer</th>\n",
       "    </tr>\n",
       "  </thead>\n",
       "  <tbody>\n",
       "    <tr>\n",
       "      <th>0</th>\n",
       "      <td>1489</td>\n",
       "      <td>B</td>\n",
       "      <td>0</td>\n",
       "      <td>NaN</td>\n",
       "      <td>0</td>\n",
       "    </tr>\n",
       "    <tr>\n",
       "      <th>1</th>\n",
       "      <td>1627</td>\n",
       "      <td>A</td>\n",
       "      <td>1</td>\n",
       "      <td>990.0</td>\n",
       "      <td>1</td>\n",
       "    </tr>\n",
       "    <tr>\n",
       "      <th>2</th>\n",
       "      <td>1768</td>\n",
       "      <td>B</td>\n",
       "      <td>0</td>\n",
       "      <td>NaN</td>\n",
       "      <td>0</td>\n",
       "    </tr>\n",
       "    <tr>\n",
       "      <th>3</th>\n",
       "      <td>1783</td>\n",
       "      <td>B</td>\n",
       "      <td>0</td>\n",
       "      <td>NaN</td>\n",
       "      <td>0</td>\n",
       "    </tr>\n",
       "    <tr>\n",
       "      <th>4</th>\n",
       "      <td>1794</td>\n",
       "      <td>A</td>\n",
       "      <td>0</td>\n",
       "      <td>NaN</td>\n",
       "      <td>0</td>\n",
       "    </tr>\n",
       "  </tbody>\n",
       "</table>\n",
       "</div>"
      ],
      "text/plain": [
       "   student_id grp  active    rev  payer\n",
       "0        1489   B       0    NaN      0\n",
       "1        1627   A       1  990.0      1\n",
       "2        1768   B       0    NaN      0\n",
       "3        1783   B       0    NaN      0\n",
       "4        1794   A       0    NaN      0"
      ]
     },
     "execution_count": 105,
     "metadata": {},
     "output_type": "execute_result"
    }
   ],
   "source": [
    "df.head()"
   ]
  },
  {
   "cell_type": "markdown",
   "metadata": {},
   "source": [
    "Заполним NaN значения столбца **rev** нулём для корректного расчёта метрик.  \n",
    "По той же причине ограничим длину значений **rev** 2-мя символами после запятой."
   ]
  },
  {
   "cell_type": "code",
   "execution_count": 106,
   "metadata": {},
   "outputs": [],
   "source": [
    "df['rev'] = df.rev.fillna(0)\n",
    "df['rev'] = df.rev.round(2)"
   ]
  },
  {
   "cell_type": "code",
   "execution_count": 107,
   "metadata": {},
   "outputs": [
    {
     "data": {
      "text/html": [
       "<div>\n",
       "<style scoped>\n",
       "    .dataframe tbody tr th:only-of-type {\n",
       "        vertical-align: middle;\n",
       "    }\n",
       "\n",
       "    .dataframe tbody tr th {\n",
       "        vertical-align: top;\n",
       "    }\n",
       "\n",
       "    .dataframe thead th {\n",
       "        text-align: right;\n",
       "    }\n",
       "</style>\n",
       "<table border=\"1\" class=\"dataframe\">\n",
       "  <thead>\n",
       "    <tr style=\"text-align: right;\">\n",
       "      <th></th>\n",
       "      <th>student_id</th>\n",
       "      <th>grp</th>\n",
       "      <th>active</th>\n",
       "      <th>rev</th>\n",
       "      <th>payer</th>\n",
       "    </tr>\n",
       "  </thead>\n",
       "  <tbody>\n",
       "    <tr>\n",
       "      <th>0</th>\n",
       "      <td>1489</td>\n",
       "      <td>B</td>\n",
       "      <td>0</td>\n",
       "      <td>0.0</td>\n",
       "      <td>0</td>\n",
       "    </tr>\n",
       "    <tr>\n",
       "      <th>1</th>\n",
       "      <td>1627</td>\n",
       "      <td>A</td>\n",
       "      <td>1</td>\n",
       "      <td>990.0</td>\n",
       "      <td>1</td>\n",
       "    </tr>\n",
       "    <tr>\n",
       "      <th>2</th>\n",
       "      <td>1768</td>\n",
       "      <td>B</td>\n",
       "      <td>0</td>\n",
       "      <td>0.0</td>\n",
       "      <td>0</td>\n",
       "    </tr>\n",
       "    <tr>\n",
       "      <th>3</th>\n",
       "      <td>1783</td>\n",
       "      <td>B</td>\n",
       "      <td>0</td>\n",
       "      <td>0.0</td>\n",
       "      <td>0</td>\n",
       "    </tr>\n",
       "    <tr>\n",
       "      <th>4</th>\n",
       "      <td>1794</td>\n",
       "      <td>A</td>\n",
       "      <td>0</td>\n",
       "      <td>0.0</td>\n",
       "      <td>0</td>\n",
       "    </tr>\n",
       "  </tbody>\n",
       "</table>\n",
       "</div>"
      ],
      "text/plain": [
       "   student_id grp  active    rev  payer\n",
       "0        1489   B       0    0.0      0\n",
       "1        1627   A       1  990.0      1\n",
       "2        1768   B       0    0.0      0\n",
       "3        1783   B       0    0.0      0\n",
       "4        1794   A       0    0.0      0"
      ]
     },
     "execution_count": 107,
     "metadata": {},
     "output_type": "execute_result"
    }
   ],
   "source": [
    "df.head()"
   ]
  },
  {
   "cell_type": "markdown",
   "metadata": {},
   "source": [
    "Изменим порядок столбцов и переименуем их для удобства."
   ]
  },
  {
   "cell_type": "code",
   "execution_count": 108,
   "metadata": {},
   "outputs": [],
   "source": [
    "df = df.rename(columns={'grp' : 'group',\n",
    "                        'rev' : 'revenue'})"
   ]
  },
  {
   "cell_type": "code",
   "execution_count": 109,
   "metadata": {},
   "outputs": [],
   "source": [
    "df = df[['student_id', 'group', 'revenue', 'active', 'payer']]"
   ]
  },
  {
   "cell_type": "code",
   "execution_count": 110,
   "metadata": {},
   "outputs": [
    {
     "data": {
      "text/html": [
       "<div>\n",
       "<style scoped>\n",
       "    .dataframe tbody tr th:only-of-type {\n",
       "        vertical-align: middle;\n",
       "    }\n",
       "\n",
       "    .dataframe tbody tr th {\n",
       "        vertical-align: top;\n",
       "    }\n",
       "\n",
       "    .dataframe thead th {\n",
       "        text-align: right;\n",
       "    }\n",
       "</style>\n",
       "<table border=\"1\" class=\"dataframe\">\n",
       "  <thead>\n",
       "    <tr style=\"text-align: right;\">\n",
       "      <th></th>\n",
       "      <th>student_id</th>\n",
       "      <th>group</th>\n",
       "      <th>revenue</th>\n",
       "      <th>active</th>\n",
       "      <th>payer</th>\n",
       "    </tr>\n",
       "  </thead>\n",
       "  <tbody>\n",
       "    <tr>\n",
       "      <th>0</th>\n",
       "      <td>1489</td>\n",
       "      <td>B</td>\n",
       "      <td>0.0</td>\n",
       "      <td>0</td>\n",
       "      <td>0</td>\n",
       "    </tr>\n",
       "    <tr>\n",
       "      <th>1</th>\n",
       "      <td>1627</td>\n",
       "      <td>A</td>\n",
       "      <td>990.0</td>\n",
       "      <td>1</td>\n",
       "      <td>1</td>\n",
       "    </tr>\n",
       "    <tr>\n",
       "      <th>2</th>\n",
       "      <td>1768</td>\n",
       "      <td>B</td>\n",
       "      <td>0.0</td>\n",
       "      <td>0</td>\n",
       "      <td>0</td>\n",
       "    </tr>\n",
       "    <tr>\n",
       "      <th>3</th>\n",
       "      <td>1783</td>\n",
       "      <td>B</td>\n",
       "      <td>0.0</td>\n",
       "      <td>0</td>\n",
       "      <td>0</td>\n",
       "    </tr>\n",
       "    <tr>\n",
       "      <th>4</th>\n",
       "      <td>1794</td>\n",
       "      <td>A</td>\n",
       "      <td>0.0</td>\n",
       "      <td>0</td>\n",
       "      <td>0</td>\n",
       "    </tr>\n",
       "  </tbody>\n",
       "</table>\n",
       "</div>"
      ],
      "text/plain": [
       "   student_id group  revenue  active  payer\n",
       "0        1489     B      0.0       0      0\n",
       "1        1627     A    990.0       1      1\n",
       "2        1768     B      0.0       0      0\n",
       "3        1783     B      0.0       0      0\n",
       "4        1794     A      0.0       0      0"
      ]
     },
     "execution_count": 110,
     "metadata": {},
     "output_type": "execute_result"
    }
   ],
   "source": [
    "df.head()"
   ]
  },
  {
   "cell_type": "markdown",
   "metadata": {},
   "source": [
    "Проверим наличие неактивных пользователей, которые совершили покупку  \n",
    "в период эксперимента."
   ]
  },
  {
   "cell_type": "code",
   "execution_count": 111,
   "metadata": {},
   "outputs": [
    {
     "data": {
      "text/html": [
       "<div>\n",
       "<style scoped>\n",
       "    .dataframe tbody tr th:only-of-type {\n",
       "        vertical-align: middle;\n",
       "    }\n",
       "\n",
       "    .dataframe tbody tr th {\n",
       "        vertical-align: top;\n",
       "    }\n",
       "\n",
       "    .dataframe thead th {\n",
       "        text-align: right;\n",
       "    }\n",
       "</style>\n",
       "<table border=\"1\" class=\"dataframe\">\n",
       "  <thead>\n",
       "    <tr style=\"text-align: right;\">\n",
       "      <th></th>\n",
       "      <th>student_id</th>\n",
       "      <th>group</th>\n",
       "      <th>revenue</th>\n",
       "      <th>active</th>\n",
       "      <th>payer</th>\n",
       "    </tr>\n",
       "  </thead>\n",
       "  <tbody>\n",
       "    <tr>\n",
       "      <th>39</th>\n",
       "      <td>3185</td>\n",
       "      <td>B</td>\n",
       "      <td>690.0</td>\n",
       "      <td>0</td>\n",
       "      <td>1</td>\n",
       "    </tr>\n",
       "    <tr>\n",
       "      <th>121</th>\n",
       "      <td>25973</td>\n",
       "      <td>B</td>\n",
       "      <td>690.0</td>\n",
       "      <td>0</td>\n",
       "      <td>1</td>\n",
       "    </tr>\n",
       "    <tr>\n",
       "      <th>125</th>\n",
       "      <td>26280</td>\n",
       "      <td>B</td>\n",
       "      <td>690.0</td>\n",
       "      <td>0</td>\n",
       "      <td>1</td>\n",
       "    </tr>\n",
       "    <tr>\n",
       "      <th>223</th>\n",
       "      <td>100645</td>\n",
       "      <td>B</td>\n",
       "      <td>630.0</td>\n",
       "      <td>0</td>\n",
       "      <td>1</td>\n",
       "    </tr>\n",
       "    <tr>\n",
       "      <th>254</th>\n",
       "      <td>102534</td>\n",
       "      <td>B</td>\n",
       "      <td>580.0</td>\n",
       "      <td>0</td>\n",
       "      <td>1</td>\n",
       "    </tr>\n",
       "    <tr>\n",
       "      <th>...</th>\n",
       "      <td>...</td>\n",
       "      <td>...</td>\n",
       "      <td>...</td>\n",
       "      <td>...</td>\n",
       "      <td>...</td>\n",
       "    </tr>\n",
       "    <tr>\n",
       "      <th>72452</th>\n",
       "      <td>5291900</td>\n",
       "      <td>B</td>\n",
       "      <td>199.0</td>\n",
       "      <td>0</td>\n",
       "      <td>1</td>\n",
       "    </tr>\n",
       "    <tr>\n",
       "      <th>72753</th>\n",
       "      <td>5331842</td>\n",
       "      <td>B</td>\n",
       "      <td>290.0</td>\n",
       "      <td>0</td>\n",
       "      <td>1</td>\n",
       "    </tr>\n",
       "    <tr>\n",
       "      <th>73632</th>\n",
       "      <td>5486319</td>\n",
       "      <td>B</td>\n",
       "      <td>199.0</td>\n",
       "      <td>0</td>\n",
       "      <td>1</td>\n",
       "    </tr>\n",
       "    <tr>\n",
       "      <th>74049</th>\n",
       "      <td>5562806</td>\n",
       "      <td>B</td>\n",
       "      <td>398.0</td>\n",
       "      <td>0</td>\n",
       "      <td>1</td>\n",
       "    </tr>\n",
       "    <tr>\n",
       "      <th>74216</th>\n",
       "      <td>5599663</td>\n",
       "      <td>B</td>\n",
       "      <td>1900.0</td>\n",
       "      <td>0</td>\n",
       "      <td>1</td>\n",
       "    </tr>\n",
       "  </tbody>\n",
       "</table>\n",
       "<p>149 rows × 5 columns</p>\n",
       "</div>"
      ],
      "text/plain": [
       "       student_id group  revenue  active  payer\n",
       "39           3185     B    690.0       0      1\n",
       "121         25973     B    690.0       0      1\n",
       "125         26280     B    690.0       0      1\n",
       "223        100645     B    630.0       0      1\n",
       "254        102534     B    580.0       0      1\n",
       "...           ...   ...      ...     ...    ...\n",
       "72452     5291900     B    199.0       0      1\n",
       "72753     5331842     B    290.0       0      1\n",
       "73632     5486319     B    199.0       0      1\n",
       "74049     5562806     B    398.0       0      1\n",
       "74216     5599663     B   1900.0       0      1\n",
       "\n",
       "[149 rows x 5 columns]"
      ]
     },
     "execution_count": 111,
     "metadata": {},
     "output_type": "execute_result"
    }
   ],
   "source": [
    "df[(df.revenue > 0) & (df.active == 0)]"
   ]
  },
  {
   "cell_type": "markdown",
   "metadata": {},
   "source": [
    "В датафрейме 149 неактивных пользователей, совершивших покупку в период  \n",
    "эксперимента. Скорее всего это ранее подписавшиеся пользователи  \n",
    "с автоматическим продлением. Т.е. они не были активны в период введения  \n",
    "новой механики оплаты, значит мы не знаем насколько на факт их оплаты  \n",
    "повлиял эксперимент."
   ]
  },
  {
   "cell_type": "markdown",
   "metadata": {},
   "source": [
    "### Статистические тесты"
   ]
  },
  {
   "cell_type": "markdown",
   "metadata": {},
   "source": [
    "Можем приступать к статистическим тестам. Для начала отфильтруем только  \n",
    "активных в период эксперимента пользователей и удалим колонку **active**,  \n",
    "т.к. все её значеничя будут одинаковы."
   ]
  },
  {
   "cell_type": "code",
   "execution_count": 112,
   "metadata": {},
   "outputs": [],
   "source": [
    "exp = df[df.active == 1]"
   ]
  },
  {
   "cell_type": "code",
   "execution_count": 113,
   "metadata": {},
   "outputs": [],
   "source": [
    "exp = exp[['student_id', 'group', 'revenue', 'payer']]"
   ]
  },
  {
   "cell_type": "code",
   "execution_count": 114,
   "metadata": {},
   "outputs": [
    {
     "data": {
      "text/html": [
       "<div>\n",
       "<style scoped>\n",
       "    .dataframe tbody tr th:only-of-type {\n",
       "        vertical-align: middle;\n",
       "    }\n",
       "\n",
       "    .dataframe tbody tr th {\n",
       "        vertical-align: top;\n",
       "    }\n",
       "\n",
       "    .dataframe thead th {\n",
       "        text-align: right;\n",
       "    }\n",
       "</style>\n",
       "<table border=\"1\" class=\"dataframe\">\n",
       "  <thead>\n",
       "    <tr style=\"text-align: right;\">\n",
       "      <th></th>\n",
       "      <th>student_id</th>\n",
       "      <th>group</th>\n",
       "      <th>revenue</th>\n",
       "      <th>payer</th>\n",
       "    </tr>\n",
       "  </thead>\n",
       "  <tbody>\n",
       "    <tr>\n",
       "      <th>1</th>\n",
       "      <td>1627</td>\n",
       "      <td>A</td>\n",
       "      <td>990.0</td>\n",
       "      <td>1</td>\n",
       "    </tr>\n",
       "    <tr>\n",
       "      <th>10</th>\n",
       "      <td>2085</td>\n",
       "      <td>B</td>\n",
       "      <td>0.0</td>\n",
       "      <td>0</td>\n",
       "    </tr>\n",
       "    <tr>\n",
       "      <th>12</th>\n",
       "      <td>2215</td>\n",
       "      <td>B</td>\n",
       "      <td>0.0</td>\n",
       "      <td>0</td>\n",
       "    </tr>\n",
       "    <tr>\n",
       "      <th>43</th>\n",
       "      <td>3391</td>\n",
       "      <td>A</td>\n",
       "      <td>0.0</td>\n",
       "      <td>0</td>\n",
       "    </tr>\n",
       "    <tr>\n",
       "      <th>45</th>\n",
       "      <td>3401</td>\n",
       "      <td>B</td>\n",
       "      <td>0.0</td>\n",
       "      <td>0</td>\n",
       "    </tr>\n",
       "  </tbody>\n",
       "</table>\n",
       "</div>"
      ],
      "text/plain": [
       "    student_id group  revenue  payer\n",
       "1         1627     A    990.0      1\n",
       "10        2085     B      0.0      0\n",
       "12        2215     B      0.0      0\n",
       "43        3391     A      0.0      0\n",
       "45        3401     B      0.0      0"
      ]
     },
     "execution_count": 114,
     "metadata": {},
     "output_type": "execute_result"
    }
   ],
   "source": [
    "exp.head()"
   ]
  },
  {
   "cell_type": "markdown",
   "metadata": {},
   "source": [
    "Определим метрики, которые будем сравнивать:\n",
    "\n",
    "* CR (Conversion Rate) — доля пользователей совершивших покупку\n",
    "* ARPU (Average Revenue Per User) — прибыль с одного пользователя\n",
    "* ARPPU (Average Revenue Per Paying User) — прибыль с одного платящего  \n",
    "                                            пользователя\n"
   ]
  },
  {
   "cell_type": "markdown",
   "metadata": {},
   "source": [
    "Проверим число наблюдений в каждой из групп, также создадим два  \n",
    "датафрейма: контроль и тест."
   ]
  },
  {
   "cell_type": "code",
   "execution_count": 115,
   "metadata": {},
   "outputs": [
    {
     "name": "stdout",
     "output_type": "stream",
     "text": [
      "Число наблюдений\n",
      "Контрольная группа:      1535\n",
      "Тестовая группа:         6793\n"
     ]
    }
   ],
   "source": [
    "print(f'Число наблюдений')\n",
    "print(f'Контрольная группа:      {exp.group.value_counts()[1]}')\n",
    "print(f'Тестовая группа:         {exp.group.value_counts()[0]}')\n"
   ]
  },
  {
   "cell_type": "code",
   "execution_count": 116,
   "metadata": {},
   "outputs": [],
   "source": [
    "exp_control = exp[exp.group == 'A']"
   ]
  },
  {
   "cell_type": "code",
   "execution_count": 117,
   "metadata": {},
   "outputs": [
    {
     "data": {
      "text/html": [
       "<div>\n",
       "<style scoped>\n",
       "    .dataframe tbody tr th:only-of-type {\n",
       "        vertical-align: middle;\n",
       "    }\n",
       "\n",
       "    .dataframe tbody tr th {\n",
       "        vertical-align: top;\n",
       "    }\n",
       "\n",
       "    .dataframe thead th {\n",
       "        text-align: right;\n",
       "    }\n",
       "</style>\n",
       "<table border=\"1\" class=\"dataframe\">\n",
       "  <thead>\n",
       "    <tr style=\"text-align: right;\">\n",
       "      <th></th>\n",
       "      <th>student_id</th>\n",
       "      <th>group</th>\n",
       "      <th>revenue</th>\n",
       "      <th>payer</th>\n",
       "    </tr>\n",
       "  </thead>\n",
       "  <tbody>\n",
       "    <tr>\n",
       "      <th>1</th>\n",
       "      <td>1627</td>\n",
       "      <td>A</td>\n",
       "      <td>990.0</td>\n",
       "      <td>1</td>\n",
       "    </tr>\n",
       "    <tr>\n",
       "      <th>43</th>\n",
       "      <td>3391</td>\n",
       "      <td>A</td>\n",
       "      <td>0.0</td>\n",
       "      <td>0</td>\n",
       "    </tr>\n",
       "    <tr>\n",
       "      <th>331</th>\n",
       "      <td>109623</td>\n",
       "      <td>A</td>\n",
       "      <td>0.0</td>\n",
       "      <td>0</td>\n",
       "    </tr>\n",
       "    <tr>\n",
       "      <th>614</th>\n",
       "      <td>133678</td>\n",
       "      <td>A</td>\n",
       "      <td>0.0</td>\n",
       "      <td>0</td>\n",
       "    </tr>\n",
       "    <tr>\n",
       "      <th>1002</th>\n",
       "      <td>175944</td>\n",
       "      <td>A</td>\n",
       "      <td>0.0</td>\n",
       "      <td>0</td>\n",
       "    </tr>\n",
       "  </tbody>\n",
       "</table>\n",
       "</div>"
      ],
      "text/plain": [
       "      student_id group  revenue  payer\n",
       "1           1627     A    990.0      1\n",
       "43          3391     A      0.0      0\n",
       "331       109623     A      0.0      0\n",
       "614       133678     A      0.0      0\n",
       "1002      175944     A      0.0      0"
      ]
     },
     "execution_count": 117,
     "metadata": {},
     "output_type": "execute_result"
    }
   ],
   "source": [
    "exp_control.head()"
   ]
  },
  {
   "cell_type": "code",
   "execution_count": 118,
   "metadata": {},
   "outputs": [],
   "source": [
    "exp_test = exp[exp.group == 'B']"
   ]
  },
  {
   "cell_type": "code",
   "execution_count": 119,
   "metadata": {},
   "outputs": [
    {
     "data": {
      "text/html": [
       "<div>\n",
       "<style scoped>\n",
       "    .dataframe tbody tr th:only-of-type {\n",
       "        vertical-align: middle;\n",
       "    }\n",
       "\n",
       "    .dataframe tbody tr th {\n",
       "        vertical-align: top;\n",
       "    }\n",
       "\n",
       "    .dataframe thead th {\n",
       "        text-align: right;\n",
       "    }\n",
       "</style>\n",
       "<table border=\"1\" class=\"dataframe\">\n",
       "  <thead>\n",
       "    <tr style=\"text-align: right;\">\n",
       "      <th></th>\n",
       "      <th>student_id</th>\n",
       "      <th>group</th>\n",
       "      <th>revenue</th>\n",
       "      <th>payer</th>\n",
       "    </tr>\n",
       "  </thead>\n",
       "  <tbody>\n",
       "    <tr>\n",
       "      <th>10</th>\n",
       "      <td>2085</td>\n",
       "      <td>B</td>\n",
       "      <td>0.0</td>\n",
       "      <td>0</td>\n",
       "    </tr>\n",
       "    <tr>\n",
       "      <th>12</th>\n",
       "      <td>2215</td>\n",
       "      <td>B</td>\n",
       "      <td>0.0</td>\n",
       "      <td>0</td>\n",
       "    </tr>\n",
       "    <tr>\n",
       "      <th>45</th>\n",
       "      <td>3401</td>\n",
       "      <td>B</td>\n",
       "      <td>0.0</td>\n",
       "      <td>0</td>\n",
       "    </tr>\n",
       "    <tr>\n",
       "      <th>112</th>\n",
       "      <td>22994</td>\n",
       "      <td>B</td>\n",
       "      <td>0.0</td>\n",
       "      <td>0</td>\n",
       "    </tr>\n",
       "    <tr>\n",
       "      <th>159</th>\n",
       "      <td>26899</td>\n",
       "      <td>B</td>\n",
       "      <td>0.0</td>\n",
       "      <td>0</td>\n",
       "    </tr>\n",
       "  </tbody>\n",
       "</table>\n",
       "</div>"
      ],
      "text/plain": [
       "     student_id group  revenue  payer\n",
       "10         2085     B      0.0      0\n",
       "12         2215     B      0.0      0\n",
       "45         3401     B      0.0      0\n",
       "112       22994     B      0.0      0\n",
       "159       26899     B      0.0      0"
      ]
     },
     "execution_count": 119,
     "metadata": {},
     "output_type": "execute_result"
    }
   ],
   "source": [
    "exp_test.head()"
   ]
  },
  {
   "cell_type": "markdown",
   "metadata": {},
   "source": [
    "Начнём со сравнения CR. Так как конверсионные метрики описываются   \n",
    "распределением Бернулли, для анализа их изменений применим  \n",
    "Z-тест пропорций. Но прежде взглянем на CR в каждой группе."
   ]
  },
  {
   "cell_type": "code",
   "execution_count": 120,
   "metadata": {},
   "outputs": [
    {
     "name": "stdout",
     "output_type": "stream",
     "text": [
      "CR\n",
      "Контрольная группа:     5.08%\n",
      "Тестовая группа:        4.61%\n"
     ]
    }
   ],
   "source": [
    "print(f'CR')\n",
    "print(f'Контрольная группа:     {(exp_control.payer.sum() / exp_control.payer.count() * 100).round(2)}%')\n",
    "print(f'Тестовая группа:        {(exp_test.payer.sum() / exp_test.payer.count() * 100).round(2)}%')\n"
   ]
  },
  {
   "cell_type": "code",
   "execution_count": 121,
   "metadata": {},
   "outputs": [
    {
     "data": {
      "image/png": "[encoded data removed]",
      "text/plain": [
       "<Figure size 640x480 with 1 Axes>"
      ]
     },
     "metadata": {},
     "output_type": "display_data"
    }
   ],
   "source": [
    "data = [(exp_control.payer.sum() / exp_control.payer.count() * 100).round(2),\n",
    "        (exp_test.payer.sum() / exp_test.payer.count() * 100).round(2)]\n",
    "\n",
    "ax = sns.barplot(x=['Control', 'Test'], y=data)\n",
    "ax.set_title('CR, %')\n",
    "for i in ax.containers:\n",
    "    ax.bar_label(i,)\n",
    "sns.despine()"
   ]
  },
  {
   "cell_type": "markdown",
   "metadata": {},
   "source": [
    "Перейдём к тестам.   \n",
    "Сформулируем гипотезы:\n",
    "\n",
    "* H<sub>0</sub>: CR в тестовой и контрольной группе не отличаются;\n",
    "* H<sub>1</sub>: CR в тестовой и контрольной группе различны."
   ]
  },
  {
   "cell_type": "code",
   "execution_count": 122,
   "metadata": {},
   "outputs": [],
   "source": [
    "z_stat, p_value = proportions_ztest([exp_control.payer.sum(),   exp_test.payer.sum()],\n",
    "                                    [exp_control.payer.count(), exp_test.payer.count()])"
   ]
  },
  {
   "cell_type": "code",
   "execution_count": 123,
   "metadata": {},
   "outputs": [
    {
     "name": "stdout",
     "output_type": "stream",
     "text": [
      "z-статистика:   0.792\n",
      "p-value:        0.428\n"
     ]
    }
   ],
   "source": [
    "print(f'z-статистика:   {z_stat.round(3)}')\n",
    "print(f'p-value:        {p_value.round(3)}')"
   ]
  },
  {
   "cell_type": "code",
   "execution_count": 124,
   "metadata": {},
   "outputs": [
    {
     "name": "stdout",
     "output_type": "stream",
     "text": [
      "НЕ отклоняем H0.\n"
     ]
    }
   ],
   "source": [
    "alpha = 0.05\n",
    "if p_value <= alpha:\n",
    "    print('Отклоняем H0.')\n",
    "else:\n",
    "    print('НЕ отклоняем H0.')"
   ]
  },
  {
   "cell_type": "markdown",
   "metadata": {},
   "source": [
    "Так как p-value ≈ 0.428, что больше уровня уровня значимости в 0.05,  \n",
    "мы не отклоняем H0 и считаем, что влияние новой механики оплаты  \n",
    "на конверсию в оплату не является статистически значимым."
   ]
  },
  {
   "cell_type": "markdown",
   "metadata": {},
   "source": [
    "Далее сравним ARPU. Для начала рассмотрим их значения в каждой группе."
   ]
  },
  {
   "cell_type": "code",
   "execution_count": 125,
   "metadata": {},
   "outputs": [
    {
     "name": "stdout",
     "output_type": "stream",
     "text": [
      "ARPU\n",
      "Контрольная группа:     47.44\n",
      "Тестовая группа:        57.86\n"
     ]
    }
   ],
   "source": [
    "print(f'ARPU')\n",
    "print(f'Контрольная группа:     {exp_control.revenue.mean().round(2)}')\n",
    "print(f'Тестовая группа:        {exp_test.revenue.mean().round(2)}')"
   ]
  },
  {
   "cell_type": "code",
   "execution_count": 126,
   "metadata": {},
   "outputs": [
    {
     "data": {
      "image/png": "[encoded data removed]",
      "text/plain": [
       "<Figure size 640x480 with 1 Axes>"
      ]
     },
     "metadata": {},
     "output_type": "display_data"
    }
   ],
   "source": [
    "data = [exp_control.revenue.mean().round(2),\n",
    "        exp_test.revenue.mean().round(2)]\n",
    "\n",
    "ax = sns.barplot(x=['Control', 'Test'], y=data)\n",
    "ax.set_title('ARPU')\n",
    "for i in ax.containers:\n",
    "    ax.bar_label(i,)\n",
    "sns.despine()"
   ]
  },
  {
   "cell_type": "markdown",
   "metadata": {},
   "source": [
    "И взглянем на распределения."
   ]
  },
  {
   "cell_type": "code",
   "execution_count": 127,
   "metadata": {},
   "outputs": [
    {
     "data": {
      "image/png": "[encoded data removed]",
      "text/plain": [
       "<Figure size 1200x400 with 2 Axes>"
      ]
     },
     "metadata": {},
     "output_type": "display_data"
    }
   ],
   "source": [
    "fig, axes = plt.subplots(nrows=1, ncols=2, figsize=(12, 4))\n",
    "\n",
    "sns.histplot(exp_control, x='revenue', ax=axes[0])\n",
    "axes[0].set_title('Control')\n",
    "axes[0].set_xlabel('Revenue')\n",
    "sns.despine()\n",
    "\n",
    "sns.histplot(exp_test, x='revenue', ax=axes[1], color='orange')\n",
    "axes[1].set_title('Test')\n",
    "axes[1].set_xlabel('Revenue')\n",
    "sns.despine()"
   ]
  },
  {
   "cell_type": "markdown",
   "metadata": {},
   "source": [
    "Распределения обеих групп отличны от нормального, применим bootstrap  \n",
    "для приведения распределений к нормальному виду."
   ]
  },
  {
   "cell_type": "code",
   "execution_count": 128,
   "metadata": {},
   "outputs": [],
   "source": [
    "test_arpu_bootstrap = bootstrap((exp_test.revenue, ), np.mean) \\\n",
    "                               .bootstrap_distribution\n",
    "control_arpu_bootstrap = bootstrap((exp_control.revenue, ), np.mean) \\\n",
    "                                  .bootstrap_distribution"
   ]
  },
  {
   "cell_type": "code",
   "execution_count": 129,
   "metadata": {},
   "outputs": [
    {
     "data": {
      "image/png": "[encoded data removed]",
      "text/plain": [
       "<Figure size 1200x400 with 2 Axes>"
      ]
     },
     "metadata": {},
     "output_type": "display_data"
    }
   ],
   "source": [
    "fig, axes = plt.subplots(nrows=1, ncols=2, figsize=(12, 4))\n",
    "\n",
    "sns.histplot(control_arpu_bootstrap, ax=axes[0])\n",
    "axes[0].set_title('Control')\n",
    "sns.despine()\n",
    "\n",
    "sns.histplot(test_arpu_bootstrap, ax=axes[1], color='orange')\n",
    "axes[1].set_title('Test')\n",
    "sns.despine()"
   ]
  },
  {
   "cell_type": "markdown",
   "metadata": {},
   "source": [
    "Найдём разность распределений, построим 95% доверительный интервал  \n",
    "и отметим ноль.  \n",
    "Также сформулируем гипотезы:\n",
    "\n",
    "* H<sub>0</sub>: ARPU в тестовой и контрольной группе не отличаются;\n",
    "* H<sub>1</sub>: ARPU в тестовой и контрольной группе различны."
   ]
  },
  {
   "cell_type": "code",
   "execution_count": 130,
   "metadata": {},
   "outputs": [],
   "source": [
    "diff_arpu_bootstrap = test_arpu_bootstrap - control_arpu_bootstrap"
   ]
  },
  {
   "cell_type": "code",
   "execution_count": 131,
   "metadata": {},
   "outputs": [
    {
     "data": {
      "image/png": "[encoded data removed]",
      "text/plain": [
       "<Figure size 640x480 with 1 Axes>"
      ]
     },
     "metadata": {},
     "output_type": "display_data"
    }
   ],
   "source": [
    "ax = sns.histplot(diff_arpu_bootstrap)\n",
    "ax.set_title('ARPU Difference')\n",
    "\n",
    "ci = np.percentile(diff_arpu_bootstrap, [2.5, 97.5])\n",
    "\n",
    "plt.axvline(0, color='k', linestyle='-')\n",
    "plt.axvline(ci[0], color='r', linestyle='--')\n",
    "plt.axvline(ci[1], color='r', linestyle='--')\n",
    "plt.show()"
   ]
  },
  {
   "cell_type": "markdown",
   "metadata": {},
   "source": [
    "Как видно из графика вероятность получить 0 находится в пределе 95%  \n",
    "доверительного интервала, следовательно, нет никаких оснований отклонять H0 —  \n",
    "статзначимых различий ARPU в тестовой и контрольной группе не обнаружено."
   ]
  },
  {
   "cell_type": "markdown",
   "metadata": {},
   "source": [
    "Проверим ARPPU. Отфильтруем только платящих пользователей  \n",
    "и рассмотрим значения в каждой группе."
   ]
  },
  {
   "cell_type": "code",
   "execution_count": 132,
   "metadata": {},
   "outputs": [],
   "source": [
    "exp_control_payer = exp_control[exp_control.payer == 1]\n",
    "exp_test_payer = exp_test[exp_test.payer == 1]"
   ]
  },
  {
   "cell_type": "code",
   "execution_count": 133,
   "metadata": {},
   "outputs": [
    {
     "name": "stdout",
     "output_type": "stream",
     "text": [
      "ARPPU\n",
      "Контрольная группа:     933.59\n",
      "Тестовая группа:        1255.83\n"
     ]
    }
   ],
   "source": [
    "print(f'ARPPU')\n",
    "print(f'Контрольная группа:     {exp_control_payer.revenue.mean().round(2)}')\n",
    "print(f'Тестовая группа:        {exp_test_payer.revenue.mean().round(2)}')"
   ]
  },
  {
   "cell_type": "code",
   "execution_count": 134,
   "metadata": {},
   "outputs": [
    {
     "data": {
      "image/png": "[encoded data removed]",
      "text/plain": [
       "<Figure size 640x480 with 1 Axes>"
      ]
     },
     "metadata": {},
     "output_type": "display_data"
    }
   ],
   "source": [
    "data = [exp_control_payer.revenue.mean().round(2),\n",
    "        exp_test_payer.revenue.mean().round(2)]\n",
    "\n",
    "ax = sns.barplot(x=['Control', 'Test'], y=data)\n",
    "ax.set_title('ARPPU')\n",
    "for i in ax.containers:\n",
    "    ax.bar_label(i,)\n",
    "sns.despine()"
   ]
  },
  {
   "cell_type": "markdown",
   "metadata": {},
   "source": [
    "Рассмотрим распределения."
   ]
  },
  {
   "cell_type": "code",
   "execution_count": 135,
   "metadata": {},
   "outputs": [
    {
     "data": {
      "image/png": "[encoded data removed]",
      "text/plain": [
       "<Figure size 1200x400 with 2 Axes>"
      ]
     },
     "metadata": {},
     "output_type": "display_data"
    }
   ],
   "source": [
    "fig, axes = plt.subplots(nrows=1, ncols=2, figsize=(12, 4))\n",
    "\n",
    "sns.histplot(exp_control_payer, x='revenue', ax=axes[0])\n",
    "axes[0].set_title('Control')\n",
    "axes[0].set_xlabel('Revenue')\n",
    "sns.despine()\n",
    "\n",
    "sns.histplot(exp_test_payer, x='revenue', ax=axes[1], color='orange')\n",
    "axes[1].set_title('Test')\n",
    "axes[1].set_xlabel('Revenue')\n",
    "sns.despine()"
   ]
  },
  {
   "cell_type": "markdown",
   "metadata": {},
   "source": [
    "Распределения не нормальные, но прежде чем применять bootstrap рассмотрим  \n",
    "структуру оплат"
   ]
  },
  {
   "cell_type": "code",
   "execution_count": 136,
   "metadata": {},
   "outputs": [],
   "source": [
    "revenue_distribution = exp[exp.payer == 1] \\\n",
    "                          .groupby((['revenue', 'group'])) \\\n",
    "                          .agg({'student_id' : 'count'}) \\\n",
    "                          .reset_index()"
   ]
  },
  {
   "cell_type": "code",
   "execution_count": 137,
   "metadata": {},
   "outputs": [
    {
     "data": {
      "text/html": [
       "<div>\n",
       "<style scoped>\n",
       "    .dataframe tbody tr th:only-of-type {\n",
       "        vertical-align: middle;\n",
       "    }\n",
       "\n",
       "    .dataframe tbody tr th {\n",
       "        vertical-align: top;\n",
       "    }\n",
       "\n",
       "    .dataframe thead th {\n",
       "        text-align: right;\n",
       "    }\n",
       "</style>\n",
       "<table border=\"1\" class=\"dataframe\">\n",
       "  <thead>\n",
       "    <tr style=\"text-align: right;\">\n",
       "      <th></th>\n",
       "      <th>revenue</th>\n",
       "      <th>group</th>\n",
       "      <th>student_id</th>\n",
       "    </tr>\n",
       "  </thead>\n",
       "  <tbody>\n",
       "    <tr>\n",
       "      <th>0</th>\n",
       "      <td>199.0</td>\n",
       "      <td>A</td>\n",
       "      <td>5</td>\n",
       "    </tr>\n",
       "    <tr>\n",
       "      <th>1</th>\n",
       "      <td>199.0</td>\n",
       "      <td>B</td>\n",
       "      <td>27</td>\n",
       "    </tr>\n",
       "    <tr>\n",
       "      <th>2</th>\n",
       "      <td>290.0</td>\n",
       "      <td>A</td>\n",
       "      <td>25</td>\n",
       "    </tr>\n",
       "    <tr>\n",
       "      <th>3</th>\n",
       "      <td>290.0</td>\n",
       "      <td>B</td>\n",
       "      <td>45</td>\n",
       "    </tr>\n",
       "    <tr>\n",
       "      <th>4</th>\n",
       "      <td>398.0</td>\n",
       "      <td>A</td>\n",
       "      <td>1</td>\n",
       "    </tr>\n",
       "  </tbody>\n",
       "</table>\n",
       "</div>"
      ],
      "text/plain": [
       "   revenue group  student_id\n",
       "0    199.0     A           5\n",
       "1    199.0     B          27\n",
       "2    290.0     A          25\n",
       "3    290.0     B          45\n",
       "4    398.0     A           1"
      ]
     },
     "execution_count": 137,
     "metadata": {},
     "output_type": "execute_result"
    }
   ],
   "source": [
    "revenue_distribution.head()"
   ]
  },
  {
   "cell_type": "code",
   "execution_count": 138,
   "metadata": {},
   "outputs": [],
   "source": [
    "pivot_revenue_distribution = revenue_distribution.pivot(index='revenue',\n",
    "                                                        columns='group',\n",
    "                                                        values='student_id') \\\n",
    "                                                 .sort_values(['B', 'A'],\n",
    "                                                        ascending=[False, False])"
   ]
  },
  {
   "cell_type": "code",
   "execution_count": 139,
   "metadata": {},
   "outputs": [
    {
     "data": {
      "text/html": [
       "<div>\n",
       "<style scoped>\n",
       "    .dataframe tbody tr th:only-of-type {\n",
       "        vertical-align: middle;\n",
       "    }\n",
       "\n",
       "    .dataframe tbody tr th {\n",
       "        vertical-align: top;\n",
       "    }\n",
       "\n",
       "    .dataframe thead th {\n",
       "        text-align: right;\n",
       "    }\n",
       "</style>\n",
       "<table border=\"1\" class=\"dataframe\">\n",
       "  <thead>\n",
       "    <tr style=\"text-align: right;\">\n",
       "      <th>group</th>\n",
       "      <th>A</th>\n",
       "      <th>B</th>\n",
       "    </tr>\n",
       "    <tr>\n",
       "      <th>revenue</th>\n",
       "      <th></th>\n",
       "      <th></th>\n",
       "    </tr>\n",
       "  </thead>\n",
       "  <tbody>\n",
       "    <tr>\n",
       "      <th>1900.0</th>\n",
       "      <td>NaN</td>\n",
       "      <td>127.0</td>\n",
       "    </tr>\n",
       "    <tr>\n",
       "      <th>290.0</th>\n",
       "      <td>25.0</td>\n",
       "      <td>45.0</td>\n",
       "    </tr>\n",
       "    <tr>\n",
       "      <th>199.0</th>\n",
       "      <td>5.0</td>\n",
       "      <td>27.0</td>\n",
       "    </tr>\n",
       "    <tr>\n",
       "      <th>840.0</th>\n",
       "      <td>3.0</td>\n",
       "      <td>21.0</td>\n",
       "    </tr>\n",
       "    <tr>\n",
       "      <th>990.0</th>\n",
       "      <td>5.0</td>\n",
       "      <td>17.0</td>\n",
       "    </tr>\n",
       "    <tr>\n",
       "      <th>690.0</th>\n",
       "      <td>4.0</td>\n",
       "      <td>13.0</td>\n",
       "    </tr>\n",
       "    <tr>\n",
       "      <th>1140.0</th>\n",
       "      <td>2.0</td>\n",
       "      <td>9.0</td>\n",
       "    </tr>\n",
       "    <tr>\n",
       "      <th>590.0</th>\n",
       "      <td>5.0</td>\n",
       "      <td>6.0</td>\n",
       "    </tr>\n",
       "    <tr>\n",
       "      <th>398.0</th>\n",
       "      <td>1.0</td>\n",
       "      <td>6.0</td>\n",
       "    </tr>\n",
       "    <tr>\n",
       "      <th>580.0</th>\n",
       "      <td>6.0</td>\n",
       "      <td>5.0</td>\n",
       "    </tr>\n",
       "  </tbody>\n",
       "</table>\n",
       "</div>"
      ],
      "text/plain": [
       "group       A      B\n",
       "revenue             \n",
       "1900.0    NaN  127.0\n",
       "290.0    25.0   45.0\n",
       "199.0     5.0   27.0\n",
       "840.0     3.0   21.0\n",
       "990.0     5.0   17.0\n",
       "690.0     4.0   13.0\n",
       "1140.0    2.0    9.0\n",
       "590.0     5.0    6.0\n",
       "398.0     1.0    6.0\n",
       "580.0     6.0    5.0"
      ]
     },
     "execution_count": 139,
     "metadata": {},
     "output_type": "execute_result"
    }
   ],
   "source": [
    "pivot_revenue_distribution.head(10)"
   ]
  },
  {
   "cell_type": "markdown",
   "metadata": {},
   "source": [
    "Как видно из таблицы в контрольной группе отсутствуют оплаты размером 1900,  \n",
    "в то время как в тестовой группе их аномально много. Из чего следует вывод,  \n",
    "что новая механика оплаты связана с этой цифрой."
   ]
  },
  {
   "cell_type": "markdown",
   "metadata": {},
   "source": [
    "Вернёмся к ARPPU. Используем bootstrap для приведения распределения  \n",
    "к нормальному виду."
   ]
  },
  {
   "cell_type": "code",
   "execution_count": 140,
   "metadata": {},
   "outputs": [],
   "source": [
    "test_arppu_bootstrap = bootstrap((exp_test_payer.revenue, ), np.mean) \\\n",
    "                               .bootstrap_distribution\n",
    "control_arppu_bootstrap = bootstrap((exp_control_payer.revenue, ), np.mean) \\\n",
    "                                  .bootstrap_distribution"
   ]
  },
  {
   "cell_type": "code",
   "execution_count": 141,
   "metadata": {},
   "outputs": [
    {
     "data": {
      "image/png": "[encoded data removed]",
      "text/plain": [
       "<Figure size 1200x400 with 2 Axes>"
      ]
     },
     "metadata": {},
     "output_type": "display_data"
    }
   ],
   "source": [
    "fig, axes = plt.subplots(nrows=1, ncols=2, figsize=(12, 4))\n",
    "\n",
    "sns.histplot(control_arppu_bootstrap, ax=axes[0])\n",
    "axes[0].set_title('Control')\n",
    "sns.despine()\n",
    "\n",
    "sns.histplot(test_arppu_bootstrap, ax=axes[1], color='orange')\n",
    "axes[1].set_title('Test')\n",
    "sns.despine()"
   ]
  },
  {
   "cell_type": "markdown",
   "metadata": {},
   "source": [
    "Найдём разность распределений, построим 95% доверительный интервал  \n",
    "и отметим ноль.  \n",
    "Также сформулируем гипотезы:\n",
    "\n",
    "* H<sub>0</sub>: ARPPU в тестовой и контрольной группе не отличаются;\n",
    "* H<sub>1</sub>: ARPPU в тестовой и контрольной группе различны."
   ]
  },
  {
   "cell_type": "code",
   "execution_count": 142,
   "metadata": {},
   "outputs": [],
   "source": [
    "diff_arppu_bootstrap = test_arppu_bootstrap - control_arppu_bootstrap"
   ]
  },
  {
   "cell_type": "code",
   "execution_count": 143,
   "metadata": {},
   "outputs": [
    {
     "data": {
      "image/png": "[encoded data removed]",
      "text/plain": [
       "<Figure size 640x480 with 1 Axes>"
      ]
     },
     "metadata": {},
     "output_type": "display_data"
    }
   ],
   "source": [
    "ax = sns.histplot(diff_arppu_bootstrap)\n",
    "ax.set_title('ARPPU Difference')\n",
    "\n",
    "ci = np.percentile(diff_arppu_bootstrap, [2.5, 97.5])\n",
    "\n",
    "plt.axvline(0, color='k', linestyle='-')\n",
    "plt.axvline(ci[0], color='r', linestyle='--')\n",
    "plt.axvline(ci[1], color='r', linestyle='--')\n",
    "plt.show()"
   ]
  },
  {
   "cell_type": "markdown",
   "metadata": {},
   "source": [
    "Как видно из графика вероятность получить 0 находится вне предела 95%  \n",
    "доверительного интервала, есть основания для отклонения H0  —  \n",
    "статзначимых различия ARPPU в тестовой и контрольной группе обнаружены."
   ]
  },
  {
   "cell_type": "markdown",
   "metadata": {},
   "source": [
    "### Вывод"
   ]
  },
  {
   "cell_type": "markdown",
   "metadata": {},
   "source": [
    "В ходе проведения A/B теста обнаружено:\n",
    "\n",
    "* Различие CR в группах НЕ статзначимы;\n",
    "* Различие ARPU в группах НЕ статзначимы;\n",
    "* Различие ARPPU в группах статзначимо.  \n",
    "Средний чек пользователей в тестовой группе вырос."
   ]
  },
  {
   "cell_type": "markdown",
   "metadata": {},
   "source": [
    "Запускаем новую механику оплаты для всех пользователей."
   ]
  },
  {
   "cell_type": "markdown",
   "metadata": {},
   "source": [
    "## 2. SQL"
   ]
  },
  {
   "cell_type": "markdown",
   "metadata": {},
   "source": [
    "### 2.1 Очень усердные ученики"
   ]
  },
  {
   "cell_type": "markdown",
   "metadata": {},
   "source": [
    "Дана таблица **default.peas**:\n",
    "\n",
    "| Название атрибута | Тип атрибута | Смысловое значение                         |\n",
    "|-------------------|--------------|--------------------------------------------|\n",
    "| st_id             | int          | ID ученика                                 |\n",
    "| timest            | timestamp    | Время решения карточки                     |\n",
    "| correct           | bool         | Правильно ли решено задание                |\n",
    "| subject           | text         | Дисциплина, в которой находится задание    |\n",
    "\n",
    "Необходимо написать оптимальный запрос, который даст информацию о количестве  \n",
    "очень усердных студентов. NB! Под усердным студентом мы понимаем студента,  \n",
    "который правильно решил 20 задач за текущий месяц."
   ]
  },
  {
   "cell_type": "code",
   "execution_count": 144,
   "metadata": {},
   "outputs": [],
   "source": [
    "# Настроим подключение к ClickHouse\n",
    "connection = {'host'     : 'https://clickhouse.lab.karpov.courses',\n",
    "              'database' : 'default',\n",
    "              'user'     : 'student', \n",
    "              'password' : 'dpo_python_2020'}"
   ]
  },
  {
   "cell_type": "markdown",
   "metadata": {},
   "source": [
    "Напишем функцию, возвращающую результат запроса к ClickHouse."
   ]
  },
  {
   "cell_type": "code",
   "execution_count": 145,
   "metadata": {},
   "outputs": [],
   "source": [
    "def sql(query):\n",
    "    sql_request = ph.read_clickhouse(query=query, connection=connection)\n",
    "    return sql_request"
   ]
  },
  {
   "cell_type": "markdown",
   "metadata": {},
   "source": [
    "Далее напишем запрос, считающий число правильных заданий в текущий  \n",
    "(максимальный) месяц для каждого пользователя, корректно решившего  \n",
    "20 и более заданий. Поместим его в подзапрос и вычислим число  \n",
    "усердных студентов."
   ]
  },
  {
   "cell_type": "code",
   "execution_count": 146,
   "metadata": {},
   "outputs": [],
   "source": [
    "query = '''\n",
    "        SELECT COUNT(st_id) AS diligent_students\n",
    "        FROM   (SELECT   st_id,\n",
    "                         SUM(correct) AS correct_tasks\n",
    "                FROM     default.peas\n",
    "                WHERE    DATE_TRUNC('month', timest) = (SELECT DATE_TRUNC('month', MAX(timest))\n",
    "                                                      FROM   default.peas)\n",
    "                GROUP BY st_id\n",
    "                HAVING   SUM(correct) >= 20);\n",
    "        '''"
   ]
  },
  {
   "cell_type": "code",
   "execution_count": 147,
   "metadata": {},
   "outputs": [
    {
     "data": {
      "text/html": [
       "<div>\n",
       "<style scoped>\n",
       "    .dataframe tbody tr th:only-of-type {\n",
       "        vertical-align: middle;\n",
       "    }\n",
       "\n",
       "    .dataframe tbody tr th {\n",
       "        vertical-align: top;\n",
       "    }\n",
       "\n",
       "    .dataframe thead th {\n",
       "        text-align: right;\n",
       "    }\n",
       "</style>\n",
       "<table border=\"1\" class=\"dataframe\">\n",
       "  <thead>\n",
       "    <tr style=\"text-align: right;\">\n",
       "      <th></th>\n",
       "      <th>diligent_students</th>\n",
       "    </tr>\n",
       "  </thead>\n",
       "  <tbody>\n",
       "    <tr>\n",
       "      <th>0</th>\n",
       "      <td>136</td>\n",
       "    </tr>\n",
       "  </tbody>\n",
       "</table>\n",
       "</div>"
      ],
      "text/plain": [
       "   diligent_students\n",
       "0                136"
      ]
     },
     "execution_count": 147,
     "metadata": {},
     "output_type": "execute_result"
    }
   ],
   "source": [
    "sql(query)"
   ]
  },
  {
   "cell_type": "markdown",
   "metadata": {},
   "source": [
    "### 2.2 Оптимизация воронки"
   ]
  },
  {
   "cell_type": "markdown",
   "metadata": {},
   "source": [
    "Помимо таблицы **defaul.peas** дана таблица **default.studs**:\n",
    "\n",
    "| Название атрибута | Тип атрибута | Смысловое значение                     |\n",
    "|-------------------|--------------|----------------------------------------|\n",
    "| st_id             | int          | ID ученика                             |\n",
    "| test_grp          | text         | Метка ученика в данном эксперименте    |\n",
    "\n",
    "\n",
    "И таблица **default.final_project_check**:\n",
    "\n",
    "| Название атрибута | Тип атрибута | Смысловое значение                         |\n",
    "|-------------------|--------------|--------------------------------------------|\n",
    "| st_id             | int          | ID ученика                                 |\n",
    "| sale_time         | timestamp    | Время покупки                              |\n",
    "| money             | int          | Цена, по которой приобрели данный курс     |\n",
    "| subject           | text         | Дисциплина курса                           |"
   ]
  },
  {
   "cell_type": "markdown",
   "metadata": {},
   "source": [
    "Необходимо в одном запросе выгрузить следующую информацию  \n",
    "о группах пользователей:\n",
    "\n",
    "* ARPU \n",
    "* ARPAU \n",
    "* CR в покупку \n",
    "* СR активного пользователя в покупку \n",
    "* CR пользователя из активности по математике (subject = ’math’)  \n",
    "в покупку курса по математике\n",
    "* ARPU считается относительно всех пользователей, попавших в группы.\n",
    "\n",
    "Активным считается пользователь, за все время решивший больше 10 задач  \n",
    "правильно в любых дисциплинах.  \n",
    "\n",
    "Активным по математике считается пользователь, за все время решивший  \n",
    "2 или больше задач правильно по математике."
   ]
  },
  {
   "cell_type": "markdown",
   "metadata": {},
   "source": [
    "Для начала начала создадим фиктивные переменные **active** для пользователей,  \n",
    "решивших 10 и более заданий, и **active_math** для тех кто решил 2 и более  \n",
    "задания по математике."
   ]
  },
  {
   "cell_type": "code",
   "execution_count": 148,
   "metadata": {},
   "outputs": [],
   "source": [
    "query = '''\n",
    "        SELECT   st_id,\n",
    "                 IF(SUM(correct) >= 10, 1, 0) AS active,\n",
    "                 IF(SUM(correct) FILTER (WHERE subject = 'Math') >= 2, 1, 0) AS active_math\n",
    "        FROM     peas\n",
    "        GROUP BY st_id;\n",
    "        '''"
   ]
  },
  {
   "cell_type": "code",
   "execution_count": 149,
   "metadata": {},
   "outputs": [
    {
     "data": {
      "text/html": [
       "<div>\n",
       "<style scoped>\n",
       "    .dataframe tbody tr th:only-of-type {\n",
       "        vertical-align: middle;\n",
       "    }\n",
       "\n",
       "    .dataframe tbody tr th {\n",
       "        vertical-align: top;\n",
       "    }\n",
       "\n",
       "    .dataframe thead th {\n",
       "        text-align: right;\n",
       "    }\n",
       "</style>\n",
       "<table border=\"1\" class=\"dataframe\">\n",
       "  <thead>\n",
       "    <tr style=\"text-align: right;\">\n",
       "      <th></th>\n",
       "      <th>st_id</th>\n",
       "      <th>active</th>\n",
       "      <th>active_math</th>\n",
       "    </tr>\n",
       "  </thead>\n",
       "  <tbody>\n",
       "    <tr>\n",
       "      <th>0</th>\n",
       "      <td>414769</td>\n",
       "      <td>1</td>\n",
       "      <td>0</td>\n",
       "    </tr>\n",
       "    <tr>\n",
       "      <th>1</th>\n",
       "      <td>878110</td>\n",
       "      <td>0</td>\n",
       "      <td>0</td>\n",
       "    </tr>\n",
       "    <tr>\n",
       "      <th>2</th>\n",
       "      <td>700123</td>\n",
       "      <td>1</td>\n",
       "      <td>0</td>\n",
       "    </tr>\n",
       "    <tr>\n",
       "      <th>3</th>\n",
       "      <td>171209</td>\n",
       "      <td>1</td>\n",
       "      <td>0</td>\n",
       "    </tr>\n",
       "    <tr>\n",
       "      <th>4</th>\n",
       "      <td>289442</td>\n",
       "      <td>1</td>\n",
       "      <td>0</td>\n",
       "    </tr>\n",
       "  </tbody>\n",
       "</table>\n",
       "</div>"
      ],
      "text/plain": [
       "    st_id  active  active_math\n",
       "0  414769       1            0\n",
       "1  878110       0            0\n",
       "2  700123       1            0\n",
       "3  171209       1            0\n",
       "4  289442       1            0"
      ]
     },
     "execution_count": 149,
     "metadata": {},
     "output_type": "execute_result"
    }
   ],
   "source": [
    "sql(query).head(5)"
   ]
  },
  {
   "cell_type": "code",
   "execution_count": 150,
   "metadata": {},
   "outputs": [
    {
     "data": {
      "text/plain": [
       "(308, 3)"
      ]
     },
     "execution_count": 150,
     "metadata": {},
     "output_type": "execute_result"
    }
   ],
   "source": [
    "sql(query).shape"
   ]
  },
  {
   "cell_type": "markdown",
   "metadata": {},
   "source": [
    "Далее найдём траты пользователей на покупку курсов по математике и на покупку  \n",
    "всех курсов (включая математику)."
   ]
  },
  {
   "cell_type": "code",
   "execution_count": 151,
   "metadata": {},
   "outputs": [],
   "source": [
    "query = '''\n",
    "        SELECT DISTINCT st_id,\n",
    "               SUM(money) OVER (PARTITION BY st_id) AS revenue,\n",
    "               SUM(money) FILTER (WHERE subject = 'Math') OVER (PARTITION BY st_id) AS math_revenue\n",
    "        FROM   final_project_check;\n",
    "        '''"
   ]
  },
  {
   "cell_type": "code",
   "execution_count": 152,
   "metadata": {},
   "outputs": [
    {
     "data": {
      "text/html": [
       "<div>\n",
       "<style scoped>\n",
       "    .dataframe tbody tr th:only-of-type {\n",
       "        vertical-align: middle;\n",
       "    }\n",
       "\n",
       "    .dataframe tbody tr th {\n",
       "        vertical-align: top;\n",
       "    }\n",
       "\n",
       "    .dataframe thead th {\n",
       "        text-align: right;\n",
       "    }\n",
       "</style>\n",
       "<table border=\"1\" class=\"dataframe\">\n",
       "  <thead>\n",
       "    <tr style=\"text-align: right;\">\n",
       "      <th></th>\n",
       "      <th>st_id</th>\n",
       "      <th>revenue</th>\n",
       "      <th>math_revenue</th>\n",
       "    </tr>\n",
       "  </thead>\n",
       "  <tbody>\n",
       "    <tr>\n",
       "      <th>0</th>\n",
       "      <td>101432</td>\n",
       "      <td>150000</td>\n",
       "      <td>85000</td>\n",
       "    </tr>\n",
       "    <tr>\n",
       "      <th>1</th>\n",
       "      <td>104885</td>\n",
       "      <td>140000</td>\n",
       "      <td>0</td>\n",
       "    </tr>\n",
       "    <tr>\n",
       "      <th>2</th>\n",
       "      <td>106464</td>\n",
       "      <td>85000</td>\n",
       "      <td>85000</td>\n",
       "    </tr>\n",
       "    <tr>\n",
       "      <th>3</th>\n",
       "      <td>114606</td>\n",
       "      <td>75000</td>\n",
       "      <td>0</td>\n",
       "    </tr>\n",
       "    <tr>\n",
       "      <th>4</th>\n",
       "      <td>147316</td>\n",
       "      <td>65000</td>\n",
       "      <td>0</td>\n",
       "    </tr>\n",
       "  </tbody>\n",
       "</table>\n",
       "</div>"
      ],
      "text/plain": [
       "    st_id  revenue  math_revenue\n",
       "0  101432   150000         85000\n",
       "1  104885   140000             0\n",
       "2  106464    85000         85000\n",
       "3  114606    75000             0\n",
       "4  147316    65000             0"
      ]
     },
     "execution_count": 152,
     "metadata": {},
     "output_type": "execute_result"
    }
   ],
   "source": [
    "sql(query).head(5)"
   ]
  },
  {
   "cell_type": "code",
   "execution_count": 153,
   "metadata": {},
   "outputs": [
    {
     "data": {
      "text/plain": [
       "(47, 3)"
      ]
     },
     "execution_count": 153,
     "metadata": {},
     "output_type": "execute_result"
    }
   ],
   "source": [
    "sql(query).shape"
   ]
  },
  {
   "cell_type": "markdown",
   "metadata": {},
   "source": [
    "Поместим предыдущие запросы в CTE. К таблице с группой пользователя  \n",
    "при помощи LEFT JOIN присоединим информацию об активных пользователях  \n",
    "и о тратах пользователей."
   ]
  },
  {
   "cell_type": "code",
   "execution_count": 154,
   "metadata": {},
   "outputs": [],
   "source": [
    "query = '''\n",
    "        WITH active_studs AS (SELECT   st_id,\n",
    "                                       IF(SUM(correct) >= 10, 1, 0) AS active,\n",
    "                                       IF(SUM(correct) FILTER (WHERE subject = 'Math') >= 2, 1, 0) AS active_math\n",
    "                              FROM     peas\n",
    "                              GROUP BY st_id),\n",
    "                                \n",
    "                 payments AS (SELECT DISTINCT st_id,\n",
    "                                     SUM(money) OVER (PARTITION BY st_id) AS revenue,\n",
    "                                     SUM(money) FILTER (WHERE subject = 'Math') OVER (PARTITION BY st_id) AS math_revenue\n",
    "                              FROM   final_project_check)\n",
    "                        \n",
    "SELECT    studs.st_id AS student_id,\n",
    "          studs.test_grp AS group,\n",
    "          active_studs.active AS active,\n",
    "          active_studs.active_math AS active_math,\n",
    "          payments.revenue AS revenue,\n",
    "          payments.math_revenue AS revenue_math\n",
    "FROM      studs\n",
    "LEFT JOIN active_studs  ON studs.st_id = active_studs.st_id\n",
    "LEFT JOIN payments      ON studs.st_id = payments.st_id;\n",
    "        '''"
   ]
  },
  {
   "cell_type": "code",
   "execution_count": 155,
   "metadata": {},
   "outputs": [
    {
     "data": {
      "text/html": [
       "<div>\n",
       "<style scoped>\n",
       "    .dataframe tbody tr th:only-of-type {\n",
       "        vertical-align: middle;\n",
       "    }\n",
       "\n",
       "    .dataframe tbody tr th {\n",
       "        vertical-align: top;\n",
       "    }\n",
       "\n",
       "    .dataframe thead th {\n",
       "        text-align: right;\n",
       "    }\n",
       "</style>\n",
       "<table border=\"1\" class=\"dataframe\">\n",
       "  <thead>\n",
       "    <tr style=\"text-align: right;\">\n",
       "      <th></th>\n",
       "      <th>student_id</th>\n",
       "      <th>group</th>\n",
       "      <th>active</th>\n",
       "      <th>active_math</th>\n",
       "      <th>revenue</th>\n",
       "      <th>revenue_math</th>\n",
       "    </tr>\n",
       "  </thead>\n",
       "  <tbody>\n",
       "    <tr>\n",
       "      <th>0</th>\n",
       "      <td>100379</td>\n",
       "      <td>pilot</td>\n",
       "      <td>1</td>\n",
       "      <td>0</td>\n",
       "      <td>0</td>\n",
       "      <td>0</td>\n",
       "    </tr>\n",
       "    <tr>\n",
       "      <th>1</th>\n",
       "      <td>101432</td>\n",
       "      <td>control</td>\n",
       "      <td>1</td>\n",
       "      <td>0</td>\n",
       "      <td>150000</td>\n",
       "      <td>85000</td>\n",
       "    </tr>\n",
       "    <tr>\n",
       "      <th>2</th>\n",
       "      <td>104818</td>\n",
       "      <td>pilot</td>\n",
       "      <td>0</td>\n",
       "      <td>0</td>\n",
       "      <td>0</td>\n",
       "      <td>0</td>\n",
       "    </tr>\n",
       "    <tr>\n",
       "      <th>3</th>\n",
       "      <td>104885</td>\n",
       "      <td>pilot</td>\n",
       "      <td>0</td>\n",
       "      <td>0</td>\n",
       "      <td>140000</td>\n",
       "      <td>0</td>\n",
       "    </tr>\n",
       "    <tr>\n",
       "      <th>4</th>\n",
       "      <td>104966</td>\n",
       "      <td>pilot</td>\n",
       "      <td>1</td>\n",
       "      <td>0</td>\n",
       "      <td>0</td>\n",
       "      <td>0</td>\n",
       "    </tr>\n",
       "  </tbody>\n",
       "</table>\n",
       "</div>"
      ],
      "text/plain": [
       "  student_id    group  active  active_math  revenue  revenue_math\n",
       "0     100379    pilot       1            0        0             0\n",
       "1     101432  control       1            0   150000         85000\n",
       "2     104818    pilot       0            0        0             0\n",
       "3     104885    pilot       0            0   140000             0\n",
       "4     104966    pilot       1            0        0             0"
      ]
     },
     "execution_count": 155,
     "metadata": {},
     "output_type": "execute_result"
    }
   ],
   "source": [
    "sql(query).head(5)"
   ]
  },
  {
   "cell_type": "code",
   "execution_count": 156,
   "metadata": {},
   "outputs": [
    {
     "data": {
      "text/plain": [
       "(600, 6)"
      ]
     },
     "execution_count": 156,
     "metadata": {},
     "output_type": "execute_result"
    }
   ],
   "source": [
    "sql(query).shape"
   ]
  },
  {
   "cell_type": "markdown",
   "metadata": {},
   "source": [
    "Поместим итоговый запрос к двум подзапросам и вычислим необходимые метрики в разрезе групп пользователей"
   ]
  },
  {
   "cell_type": "code",
   "execution_count": 157,
   "metadata": {},
   "outputs": [],
   "source": [
    "query = '''\n",
    "        WITH active_studs AS (SELECT   st_id,\n",
    "                                       IF(SUM(correct) >= 10, 1, 0) AS active,\n",
    "                                       IF(SUM(correct) FILTER (WHERE subject = 'Math') >= 2, 1, 0) AS active_math\n",
    "                              FROM     peas\n",
    "                              GROUP BY st_id),\n",
    "                                \n",
    "                 payments AS (SELECT DISTINCT st_id,\n",
    "                                     SUM(money) OVER (PARTITION BY st_id) AS revenue,\n",
    "                                     SUM(money) FILTER (WHERE subject = 'Math') OVER (PARTITION BY st_id) AS math_revenue\n",
    "                              FROM   final_project_check),\n",
    "                        \n",
    "                 studs_ab AS (SELECT    studs.st_id AS student_id,\n",
    "                                        studs.test_grp AS group,\n",
    "                                        active_studs.active AS active,\n",
    "                                        active_studs.active_math AS active_math,\n",
    "                                        payments.revenue AS revenue,\n",
    "                                        payments.math_revenue AS revenue_math\n",
    "                              FROM      studs\n",
    "                              LEFT JOIN active_studs  ON studs.st_id = active_studs.st_id\n",
    "                              LEFT JOIN payments      ON studs.st_id = payments.st_id)\n",
    "\n",
    "        SELECT   group,\n",
    "                 ROUND(SUM(revenue) / COUNT(student_id), 2) AS ARPU,\n",
    "                 ROUND((SUM(revenue) FILTER (WHERE active + active_math > 0)) / (COUNT(student_id) FILTER (WHERE active + active_math > 0)), 2) AS ARPAU,\n",
    "                 ROUND((COUNT(student_id) FILTER (WHERE revenue > 0)) / COUNT(student_id) * 100, 2) AS CR_to_purchase,\n",
    "                 ROUND((COUNT(student_id) FILTER (WHERE revenue > 0 AND active + active_math > 0)) / (COUNT(student_id) FILTER (WHERE active + active_math > 0)) * 100, 2) AS CR_to_purchase_active,\n",
    "                 ROUND((COUNT(student_id) FILTER (WHERE revenue_math > 0 AND active_math > 0)) / (COUNT(student_id) FILTER (WHERE active_math > 0)) * 100, 2) AS CR_to_purchase_active_math\n",
    "        FROM     studs_ab\n",
    "        GROUP BY group;\n",
    "        '''"
   ]
  },
  {
   "cell_type": "code",
   "execution_count": 158,
   "metadata": {},
   "outputs": [
    {
     "data": {
      "text/html": [
       "<div>\n",
       "<style scoped>\n",
       "    .dataframe tbody tr th:only-of-type {\n",
       "        vertical-align: middle;\n",
       "    }\n",
       "\n",
       "    .dataframe tbody tr th {\n",
       "        vertical-align: top;\n",
       "    }\n",
       "\n",
       "    .dataframe thead th {\n",
       "        text-align: right;\n",
       "    }\n",
       "</style>\n",
       "<table border=\"1\" class=\"dataframe\">\n",
       "  <thead>\n",
       "    <tr style=\"text-align: right;\">\n",
       "      <th></th>\n",
       "      <th>group</th>\n",
       "      <th>ARPU</th>\n",
       "      <th>ARPAU</th>\n",
       "      <th>CR_to_purchase</th>\n",
       "      <th>CR_to_purchase_active</th>\n",
       "      <th>CR_to_purchase_active_math</th>\n",
       "    </tr>\n",
       "  </thead>\n",
       "  <tbody>\n",
       "    <tr>\n",
       "      <th>0</th>\n",
       "      <td>control</td>\n",
       "      <td>4540.98</td>\n",
       "      <td>9565.22</td>\n",
       "      <td>4.92</td>\n",
       "      <td>10.14</td>\n",
       "      <td>6.12</td>\n",
       "    </tr>\n",
       "    <tr>\n",
       "      <th>1</th>\n",
       "      <td>pilot</td>\n",
       "      <td>11508.47</td>\n",
       "      <td>26071.43</td>\n",
       "      <td>10.85</td>\n",
       "      <td>23.21</td>\n",
       "      <td>9.52</td>\n",
       "    </tr>\n",
       "  </tbody>\n",
       "</table>\n",
       "</div>"
      ],
      "text/plain": [
       "     group      ARPU     ARPAU  CR_to_purchase  CR_to_purchase_active   \n",
       "0  control   4540.98   9565.22            4.92                  10.14  \\\n",
       "1    pilot  11508.47  26071.43           10.85                  23.21   \n",
       "\n",
       "   CR_to_purchase_active_math  \n",
       "0                        6.12  \n",
       "1                        9.52  "
      ]
     },
     "execution_count": 158,
     "metadata": {},
     "output_type": "execute_result"
    }
   ],
   "source": [
    "sql(query)"
   ]
  },
  {
   "cell_type": "markdown",
   "metadata": {},
   "source": [
    "### 3.1 Подгрузка дополнительных данных"
   ]
  },
  {
   "cell_type": "markdown",
   "metadata": {},
   "source": [
    "Реализуйте функцию, которая будет автоматически подгружать информацию  \n",
    "из дополнительного файла groups_add.csv и на основании дополнительных  \n",
    "параметров пересчитывать метрики."
   ]
  },
  {
   "cell_type": "code",
   "execution_count": 159,
   "metadata": {},
   "outputs": [],
   "source": [
    "# Путь к подгружаемому файлу\n",
    "path = 'C:/Users/Arthur/Desktop/data/group_add.csv'"
   ]
  },
  {
   "cell_type": "code",
   "execution_count": 160,
   "metadata": {},
   "outputs": [],
   "source": [
    "def group_add(path):\n",
    "\n",
    "    import pandas as pd\n",
    "    import numpy as np\n",
    "\n",
    "    groups = pd.read_csv('C:/Users/Arthur/Desktop/data/groups.csv', sep=';')\n",
    "    active_studs = pd.read_csv('C:/Users/Arthur/Desktop/data/active_studs.csv')\n",
    "    checks = pd.read_csv('C:/Users/Arthur/Desktop/data/checks.csv', sep=';')\n",
    "    \n",
    "    # Считываем новую таблицу\n",
    "    new_info = pd.read_csv(path, sep=',')\n",
    "    \n",
    "    # Создаём фиктивные переменные, чтобы отличать активных и платящих\n",
    "    # пользователей на итоговой таблице\n",
    "    active_studs['active'] = 1\n",
    "    checks['payer'] = 1\n",
    "    \n",
    "    # Сначала джойним информацию о пропущенных пользователях \"вниз\"\n",
    "    # (добавляем новые строчки), затем переименовываем колонку,  \n",
    "    # чтобы не двоить колонки и джойним информацию об активности\n",
    "    # и об оплатах\n",
    "    df = groups.merge(new_info, how='outer', on=['id', 'grp'])\n",
    "    df = df.rename(columns={'id' : 'student_id'})\n",
    "    df = df.merge(active_studs, how='left', on='student_id') \\\n",
    "           .merge(checks,       how='left', on='student_id')\n",
    "    \n",
    "    # Заполняем пропуски нулём и округляем значения для корректных расчётов\n",
    "    df['active'] = df.active.fillna(0)\n",
    "    df['active'] = df.active.astype('int64')\n",
    "    df['payer'] = df.payer.fillna(0)\n",
    "    df['payer'] = df.payer.astype('int64')\n",
    "    df['rev'] = df.rev.fillna(0)\n",
    "    df['rev'] = df.rev.round(2)\n",
    "    \n",
    "    # Отбираем только активных в день эксперимента пользователей\n",
    "    df = df[df.active == 1]\n",
    "    \n",
    "    # Расчитываем метрики\n",
    "    control = df[df.grp == 'A']\n",
    "    control_CR = round(control.payer.sum() / control.payer.count() * 100, 2)\n",
    "    control_ARPU = control.rev.mean().round(2)\n",
    "    control_ARPPU = control[control.payer == 1].rev.mean().round(2)\n",
    "\n",
    "    test = df[df.grp == 'B']\n",
    "    test_CR = round(test.payer.sum() / test.payer.count() * 100, 2)\n",
    "    test_ARPU = test.rev.mean().round(2)\n",
    "    test_ARPPU = test[test.payer == 1].rev.mean().round(2)\n",
    "    \n",
    "    # Строим таблицу с метриками\n",
    "    metrics = {'Group': ['Control', 'Test'], 'CR' : [control_CR, test_CR],\n",
    "               'ARPU' : [control_ARPU, test_ARPU], 'ARPPU' : [control_ARPPU, test_ARPPU]}\n",
    "    metrics_df = pd.DataFrame(metrics)\n",
    "\n",
    "    return metrics_df"
   ]
  },
  {
   "cell_type": "code",
   "execution_count": 161,
   "metadata": {},
   "outputs": [
    {
     "data": {
      "text/html": [
       "<div>\n",
       "<style scoped>\n",
       "    .dataframe tbody tr th:only-of-type {\n",
       "        vertical-align: middle;\n",
       "    }\n",
       "\n",
       "    .dataframe tbody tr th {\n",
       "        vertical-align: top;\n",
       "    }\n",
       "\n",
       "    .dataframe thead th {\n",
       "        text-align: right;\n",
       "    }\n",
       "</style>\n",
       "<table border=\"1\" class=\"dataframe\">\n",
       "  <thead>\n",
       "    <tr style=\"text-align: right;\">\n",
       "      <th></th>\n",
       "      <th>Group</th>\n",
       "      <th>CR</th>\n",
       "      <th>ARPU</th>\n",
       "      <th>ARPPU</th>\n",
       "    </tr>\n",
       "  </thead>\n",
       "  <tbody>\n",
       "    <tr>\n",
       "      <th>0</th>\n",
       "      <td>Control</td>\n",
       "      <td>5.07</td>\n",
       "      <td>47.35</td>\n",
       "      <td>933.59</td>\n",
       "    </tr>\n",
       "    <tr>\n",
       "      <th>1</th>\n",
       "      <td>Test</td>\n",
       "      <td>4.62</td>\n",
       "      <td>58.06</td>\n",
       "      <td>1257.88</td>\n",
       "    </tr>\n",
       "  </tbody>\n",
       "</table>\n",
       "</div>"
      ],
      "text/plain": [
       "     Group    CR   ARPU    ARPPU\n",
       "0  Control  5.07  47.35   933.59\n",
       "1     Test  4.62  58.06  1257.88"
      ]
     },
     "execution_count": 161,
     "metadata": {},
     "output_type": "execute_result"
    }
   ],
   "source": [
    "group_add(path)"
   ]
  },
  {
   "cell_type": "markdown",
   "metadata": {},
   "source": [
    "### 3.2 Визуализация метрик"
   ]
  },
  {
   "cell_type": "code",
   "execution_count": 162,
   "metadata": {},
   "outputs": [],
   "source": [
    "def group_add_viz(path):\n",
    "\n",
    "    import matplotlib.pyplot as plt\n",
    "    import seaborn as sns\n",
    "    %matplotlib inline\n",
    "\n",
    "    metrics = group_add(path)\n",
    "    \n",
    "    fig, axes = plt.subplots(nrows=1, ncols=3, figsize=(12, 4))\n",
    "\n",
    "    ax = sns.barplot(data=metrics, x='Group', y='CR', ax=axes[0])\n",
    "    for i in ax.containers:\n",
    "        ax.bar_label(i,)\n",
    "    axes[0].set_title('CR, %')\n",
    "    axes[0].set_ylabel('')\n",
    "    axes[0].set_xlabel('')\n",
    "\n",
    "    ax = sns.barplot(data=metrics, x='Group', y='ARPU', ax=axes[1])\n",
    "    for i in ax.containers:\n",
    "        ax.bar_label(i,)\n",
    "    axes[1].set_title('ARPU')\n",
    "    axes[1].set_ylabel('')\n",
    "    axes[1].set_xlabel('')\n",
    "\n",
    "    ax = sns.barplot(data=metrics, x='Group', y='ARPPU', ax=axes[2])\n",
    "    for i in ax.containers:\n",
    "        ax.bar_label(i,)\n",
    "    axes[2].set_title('ARPPU')\n",
    "    axes[2].set_ylabel('')\n",
    "    axes[2].set_xlabel('')\n",
    "\n",
    "    sns.despine()\n",
    "    "
   ]
  },
  {
   "cell_type": "code",
   "execution_count": 163,
   "metadata": {},
   "outputs": [
    {
     "data": {
      "image/png": "[encoded data removed]",
      "text/plain": [
       "<Figure size 1200x400 with 3 Axes>"
      ]
     },
     "metadata": {},
     "output_type": "display_data"
    }
   ],
   "source": [
    "group_add_viz(path)"
   ]
  }
 ],
 "metadata": {
  "kernelspec": {
   "display_name": "Python 3.11.3 64-bit",
   "language": "python",
   "name": "python3"
  },
  "language_info": {
   "codemirror_mode": {
    "name": "ipython",
    "version": 3
   },
   "file_extension": ".py",
   "mimetype": "text/x-python",
   "name": "python",
   "nbconvert_exporter": "python",
   "pygments_lexer": "ipython3",
   "version": "3.11.3"
  },
  "orig_nbformat": 4,
  "vscode": {
   "interpreter": {
    "hash": "2352cb1010bc1716ab8179ff40dba3480bc27099df4059a56710a221beb69e09"
   }
  }
 },
 "nbformat": 4,
 "nbformat_minor": 2
}
